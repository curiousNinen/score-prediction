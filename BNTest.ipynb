{
  "nbformat": 4,
  "nbformat_minor": 0,
  "metadata": {
    "colab": {
      "name": "BNTest.ipynb",
      "provenance": [],
      "authorship_tag": "ABX9TyNUv43ED8ADvHSt3mjMOmwl",
      "include_colab_link": true
    },
    "kernelspec": {
      "name": "python3",
      "display_name": "Python 3"
    }
  },
  "cells": [
    {
      "cell_type": "markdown",
      "metadata": {
        "id": "view-in-github",
        "colab_type": "text"
      },
      "source": [
        "<a href=\"https://colab.research.google.com/github/curiousNinen/score-prediction/blob/main/BNTest.ipynb\" target=\"_parent\"><img src=\"https://colab.research.google.com/assets/colab-badge.svg\" alt=\"Open In Colab\"/></a>"
      ]
    },
    {
      "cell_type": "code",
      "metadata": {
        "id": "QhEyHHHL-OeH"
      },
      "source": [
        ""
      ],
      "execution_count": null,
      "outputs": []
    },
    {
      "cell_type": "code",
      "metadata": {
        "id": "FybCkAuIRVaB"
      },
      "source": [
        "#%%\n",
        "import tensorflow as tf\n",
        "import pandas as pd\n",
        "import numpy as np\n",
        "from sklearn.decomposition import PCA\n",
        "#%%\n",
        "tf.__version__\n",
        "#%%\n",
        "fp = r'/content/drive/My Drive/Colab Notebooks/train2.csv'\n",
        "dataset=pd.read_csv(fp)\n",
        "y = dataset.pop('Score').values\n",
        "x = dataset.values\n",
        "# pca = PCA(16)\n",
        "# x = pca.fit_transform(x)\n",
        "y = tf.one_hot(y,6)\n",
        "#%%\n",
        "print(f'x: {x.shape}')\n",
        "print(f'y: {y.shape}')\n",
        "#%%\n",
        "model = tf.keras.Sequential([\n",
        "    tf.keras.layers.Dense(128, activation='relu', input_shape=(69,)),\n",
        "    tf.keras.layers.BatchNormalization(),\n",
        "    tf.keras.layers.Dense(256, activation='relu'),\n",
        "    tf.keras.layers.BatchNormalization(),\n",
        "    tf.keras.layers.Dense(6, activation='softmax')\n",
        "])\n",
        "# one-hot用categorical_crossentropy,序列labels用sparse_categorical_crossentropy\n",
        "model.compile(optimizer=tf.keras.optimizers.Adam(learning_rate=0.0001),\n",
        "             loss='categorical_crossentropy',\n",
        "             metrics=['acc'])\n",
        "#%%\n",
        "model.summary()\n",
        "#%%\n",
        "model.fit(x, y, validation_split=0.1, batch_size = 256,epochs=500)\n",
        "#%%\n",
        "fp_test = r'/content/drive/My Drive/Colab Notebooks/test2.csv'\n",
        "dataset = pd.read_csv(fp)\n",
        "y_test = dataset.pop('Score').values\n",
        "x_test = dataset.values\n",
        "y_test = tf.one_hot(y_test,6)\n",
        "#%%\n",
        "model.evaluate(x_test, y_test)\n",
        "pred=model.predict(x_test)\n",
        "pred=pd.DataFrame(pred)\n",
        "print(pred)\n",
        "#%%\n",
        "# model.save('model5.h5')\n",
        "#%%\n",
        "# fp_test = r'/content/drive/My Drive/Colab Notebooks/validation2.csv'\n",
        "# dataset = pd.read_csv(fp_test)\n",
        "# y_val = dataset.pop('Score').values\n",
        "# x_val = dataset.values\n",
        "# y_val = tf.one_hot(y_val,6)\n",
        "# model2 = tf.keras.models.load_model('/content/drive/My Drive/Colab Notebooks/model5_99.h5')\n",
        "# model2.evaluate(x_val, y_val)\n",
        "# #%%\n",
        "# pred = model2.predict(x_test)\n",
        "# pred = pd.DataFrame(pred)\n",
        "# print(pred)\n",
        "#%%\n",
        "\n",
        "#%%\n"
      ],
      "execution_count": null,
      "outputs": []
    }
  ]
}